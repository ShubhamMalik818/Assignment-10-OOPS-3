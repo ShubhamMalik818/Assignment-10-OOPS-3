{
 "cells": [
  {
   "cell_type": "code",
   "execution_count": null,
   "id": "54dc80e4-9409-4d1c-80e6-e12142753186",
   "metadata": {},
   "outputs": [],
   "source": [
    "1. Which function is used to open a file? What are the different modes of opening a file? Explain each mode of file opening."
   ]
  },
  {
   "cell_type": "code",
   "execution_count": null,
   "id": "e7b2a94f-a9df-4dd3-83e7-ac65031da708",
   "metadata": {},
   "outputs": [],
   "source": [
    "ANS- Access modes govern the type of operations possible in the opened file. It refers to how the file will be used once its opened. \n",
    "     These modes also define the location of the File Handle in the file. File handle is like a cursor, which defines from where \n",
    "     the data has to be read or written in the file. \n",
    "        \n",
    "    There are 6 access modes in python.\n",
    "    \n",
    "1.Read Only (‘r’) : \n",
    "    Open text file for reading. The handle is positioned at the beginning of the file. If the file does not exists, raises the I/O error. \n",
    "    This is also the default mode in which a file is opened.\n",
    "2.Read and Write (‘r+’): \n",
    "    Open the file for reading and writing. The handle is positioned at the beginning of the file. Raises I/O error if the file does not exist.\n",
    "3.Write Only (‘w’) : \n",
    "    Open the file for writing. For the existing files, the data is truncated and over-written. The handle is positioned at the beginning of the file. \n",
    "    Creates the file if the file does not exist.\n",
    "4.Write and Read (‘w+’) : \n",
    "    Open the file for reading and writing. For an existing file, data is truncated and over-written. The handle is positioned at the beginning of the file.\n",
    "5.Append Only (‘a’): \n",
    "    Open the file for writing. The file is created if it does not exist. The handle is positioned at the end of the file. \n",
    "    The data being written will be inserted at the end, after the existing data.\n",
    "6.Append and Read (‘a+’) : \n",
    "    Open the file for reading and writing. The file is created if it does not exist. The handle is positioned at the end of the file. \n",
    "    The data being written will be inserted at the end, after the existing data."
   ]
  },
  {
   "cell_type": "code",
   "execution_count": null,
   "id": "65e90527-8a8f-435d-bd0e-303f942df21f",
   "metadata": {},
   "outputs": [],
   "source": [
    "Mode\tDescription\n",
    "\n",
    "r\tOpen a file for reading. (default)\n",
    "w\tOpen a file for writing. Creates a new file if it does not exist or truncates the file if it exists.\n",
    "x\tOpen a file for exclusive creation. If the file already exists, the operation fails.\n",
    "a\tOpen a file for appending at the end of the file without truncating it. Creates a new file if it does not exist.\n",
    "t\tOpen in text mode. (default)\n",
    "b\tOpen in binary mode.\n",
    "+\tOpen a file for updating (reading and writing)"
   ]
  },
  {
   "cell_type": "code",
   "execution_count": null,
   "id": "c0ffba23-4999-4604-a2bc-571b8465fa16",
   "metadata": {},
   "outputs": [],
   "source": [
    "2. Why close() function is used? Why is it important to close a file?"
   ]
  },
  {
   "cell_type": "code",
   "execution_count": null,
   "id": "5b3b1fd7-c73f-41ad-9cc5-a2cd1dade4bb",
   "metadata": {},
   "outputs": [],
   "source": [
    "ANS- The close() method closes an open file.\n",
    "\n",
    "You should always close your files, in some cases, due to buffering, changes made to a file may not show until you close the file.\n",
    "\n"
   ]
  },
  {
   "cell_type": "code",
   "execution_count": null,
   "id": "cfaf9c2d-6d17-45aa-a79c-301febd53dfb",
   "metadata": {},
   "outputs": [],
   "source": [
    "3. Write a python program to create a text file. Write ‘I want to become a Data Scientist’ in that file. Then close the file. \n",
    "   Open this file and read the content of the file."
   ]
  },
  {
   "cell_type": "code",
   "execution_count": 1,
   "id": "480cf835-7f2c-4116-bfd3-0c55169a4361",
   "metadata": {},
   "outputs": [
    {
     "name": "stdout",
     "output_type": "stream",
     "text": [
      "I want to become a Data Scientist\n"
     ]
    }
   ],
   "source": [
    "# open the file in write mode\n",
    "with open(\"data_scientist.txt\", \"w\") as file:\n",
    "    # write the text to the file\n",
    "    file.write(\"I want to become a Data Scientist\")\n",
    "\n",
    "# open the file in read mode\n",
    "with open(\"data_scientist.txt\", \"r\") as file:\n",
    "    # read the content of the file\n",
    "    content = file.read()\n",
    "    print(content)\n"
   ]
  },
  {
   "cell_type": "code",
   "execution_count": null,
   "id": "234a91e9-0d9d-4b97-8a92-07137ab67aee",
   "metadata": {},
   "outputs": [],
   "source": [
    "4. Explain the following with python code: read(), readline() and readlines()."
   ]
  },
  {
   "cell_type": "code",
   "execution_count": null,
   "id": "a39ef50d-1dfc-40c5-b9fb-5fe698e4278c",
   "metadata": {},
   "outputs": [],
   "source": [
    "ANS- 1.read() method:\n",
    "     The read() method is used to read the entire content of a file as a single string. This method reads the entire file at once \n",
    "    and returns its contents as a string. \n",
    "    \n",
    "    # Open a file for reading\n",
    "file = open('example.txt', 'r')\n",
    "# Read the entire content of the file and store it in a variable\n",
    "content = file.read()\n",
    "# Close the file\n",
    "file.close()\n",
    "\n",
    "In this example, the open() function is used to open a file named example.txt in read mode. \n",
    "Then, the read() method is called on the file object to read the entire contents of the file and store it in the content variable. \n",
    "Finally, the close() method is called to close the file.\n",
    "\n",
    "\n",
    "\n",
    "     2.readline() method:\n",
    "    The readline() method is used to read a single line from a file. This method reads a single line at a time and returns it as a string. \n",
    "    \n",
    "    # Open a file for reading\n",
    "file = open('example.txt', 'r')\n",
    "# Read the first line of the file and store it in a variable\n",
    "line = file.readline()\n",
    "# Close the file\n",
    "file.close()\n",
    "\n",
    "In this example, the open() function is used to open a file named example.txt in read mode. \n",
    "Then, the readline() method is called on the file object to read the first line of the file and store it in the line variable. \n",
    "Finally, the close() method is called to close the file.\n",
    "\n",
    "\n",
    "    3.readlines() method:\n",
    "    The readlines() method is used to read all the lines from a file and return them as a list of strings. \n",
    "    This method reads all the lines at once and returns a list of strings, where each string represents a line from the file.\n",
    "    \n",
    "    # Open a file for reading\n",
    "file = open('example.txt', 'r')\n",
    "# Read all the lines from the file and store them in a list\n",
    "lines = file.readlines()\n",
    "# Close the file\n",
    "file.close()\n",
    "\n",
    "In this example, the open() function is used to open a file named example.txt in read mode. \n",
    "Then, the readlines() method is called on the file object to read all the lines from the file and store them in the lines variable as a list of strings. \n",
    "Finally, the close() method is called to close the file."
   ]
  },
  {
   "cell_type": "code",
   "execution_count": null,
   "id": "e3f17142-6648-4be1-b374-db855455fa10",
   "metadata": {},
   "outputs": [],
   "source": [
    "5. Explain why with statement is used with open(). What is the advantage of using with statement and open() together?"
   ]
  },
  {
   "cell_type": "code",
   "execution_count": null,
   "id": "d80f291a-0335-4cd5-8578-a9eb94ce7869",
   "metadata": {},
   "outputs": [],
   "source": [
    "# file handling\n",
    "\n",
    "# 1) without using with statement\n",
    "file = open('file_path', 'w')\n",
    "file.write('hello world !')\n",
    "file.close()\n",
    "\n",
    "# 2) without using with statement\n",
    "file = open('file_path', 'w')\n",
    "try:\n",
    "\tfile.write('hello world')\n",
    "finally:\n",
    "\tfile.close()\n",
    "\n",
    "    \n",
    "    # using with statement\n",
    "with open('file_path', 'w') as file:\n",
    "\tfile.write('hello world !')\n",
    "\n",
    "    \n",
    "    \n",
    "The advantage of using the with statement with the open() function is that it automatically takes care of closing the file after it has been used, \n",
    "even if an error occurs while the file is being read or written to. This is known as automatic resource management and helps to avoid \n",
    "common programming mistakes, such as forgetting to close a file or closing it at the wrong time.\n",
    "\n",
    "In summary, using the with statement with the open() function provides a simple and convenient way to read or write to files, \n",
    "while ensuring that the file is always closed correctly, even in the presence of errors or exceptions.    "
   ]
  },
  {
   "cell_type": "code",
   "execution_count": null,
   "id": "947dca78-c13c-4e21-b180-155b4902bc91",
   "metadata": {},
   "outputs": [],
   "source": [
    "6. Explain the write() and writelines() functions. Give a suitable example."
   ]
  },
  {
   "cell_type": "code",
   "execution_count": null,
   "id": "a86178e8-d14f-4e53-aaeb-d40778b1eb69",
   "metadata": {},
   "outputs": [],
   "source": [
    "ANS- 1.write() function:\n",
    "     The write() function is used to write a single string to a file. This function writes the specified string to the file, \n",
    "    overwriting any existing content in the file.\n",
    "    \n",
    "    # Open a file for writing\n",
    "file = open('example.txt', 'w')\n",
    "# Write a string to the file\n",
    "file.write('Hello, world!')\n",
    "# Close the file\n",
    "file.close()\n",
    " \n",
    "In this example, the open() function is used to open a file named example.txt in write mode. \n",
    "Then, the write() function is called on the file object to write the string 'Hello, world!' to the file. \n",
    "Finally, the close() method is called to close the file.   \n",
    "\n",
    "     2.writelines() function:\n",
    "    The writelines() function is used to write a list of strings to a file. This function writes each string in the list to the file, \n",
    "    overwriting any existing content in the file.\n",
    "    \n",
    "    # Open a file for writing\n",
    "file = open('example.txt', 'w')\n",
    "# Write a list of strings to the file\n",
    "lines = ['Line 1\\n', 'Line 2\\n', 'Line 3\\n']\n",
    "file.writelines(lines)\n",
    "# Close the file\n",
    "file.close()\n",
    "\n",
    "In this example, the open() function is used to open a file named example.txt in write mode. Then, a list of strings is created and stored in the lines variable. The writelines() function is then called on the file object to write each string in the list to the file. Finally, the close() method is called to close the file.\n",
    "\n",
    "Note that each string in the list must include the newline character (\\n) to separate the lines in the file."
   ]
  },
  {
   "cell_type": "code",
   "execution_count": null,
   "id": "17f1d8d5-9fdb-402a-80c2-be834ea3a80e",
   "metadata": {},
   "outputs": [],
   "source": []
  }
 ],
 "metadata": {
  "kernelspec": {
   "display_name": "Python 3 (ipykernel)",
   "language": "python",
   "name": "python3"
  },
  "language_info": {
   "codemirror_mode": {
    "name": "ipython",
    "version": 3
   },
   "file_extension": ".py",
   "mimetype": "text/x-python",
   "name": "python",
   "nbconvert_exporter": "python",
   "pygments_lexer": "ipython3",
   "version": "3.10.8"
  }
 },
 "nbformat": 4,
 "nbformat_minor": 5
}
